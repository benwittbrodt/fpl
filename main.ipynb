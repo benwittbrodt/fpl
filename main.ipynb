{
 "cells": [
  {
   "cell_type": "code",
   "execution_count": 3,
   "metadata": {},
   "outputs": [],
   "source": [
    "#built in pip packages\n",
    "import requests \n",
    "import pandas as pd \n",
    "import sqlite3\n",
    "import json\n",
    "from pprint import pprint\n",
    "\n",
    "#custom packages/functions\n",
    "from func import get_data\n",
    "#from db_build import * \n",
    "\n",
    "%load_ext autoreload\n",
    "%autoreload 2\n",
    "\n",
    "\n"
   ]
  },
  {
   "cell_type": "code",
   "execution_count": 36,
   "metadata": {},
   "outputs": [],
   "source": [
    "# endpoint = 'gameweek'\n",
    "# for i in range(1,39):\n",
    "#     data = get_data(endpoint, params={'gameweek':i})\n",
    "#     with open(f'{endpoint}{i}.json','w') as f:\n",
    "#         json.dump(data,f)\n",
    "#     print(i)"
   ]
  },
  {
   "cell_type": "code",
   "execution_count": 37,
   "metadata": {},
   "outputs": [
    {
     "name": "stdout",
     "output_type": "stream",
     "text": [
      "Querying the API URL: https://fantasy.premierleague.com/api/event/8/live/\n"
     ]
    },
    {
     "data": {
      "text/plain": [
       "{'id': 10,\n",
       " 'stats': {'minutes': 0,\n",
       "  'goals_scored': 0,\n",
       "  'assists': 0,\n",
       "  'clean_sheets': 0,\n",
       "  'goals_conceded': 0,\n",
       "  'own_goals': 0,\n",
       "  'penalties_saved': 0,\n",
       "  'penalties_missed': 0,\n",
       "  'yellow_cards': 0,\n",
       "  'red_cards': 0,\n",
       "  'saves': 0,\n",
       "  'bonus': 0,\n",
       "  'bps': 0,\n",
       "  'influence': '0.0',\n",
       "  'creativity': '0.0',\n",
       "  'threat': '0.0',\n",
       "  'ict_index': '0.0',\n",
       "  'starts': 0,\n",
       "  'expected_goals': '0.00',\n",
       "  'expected_assists': '0.00',\n",
       "  'expected_goal_involvements': '0.00',\n",
       "  'expected_goals_conceded': '0.00',\n",
       "  'total_points': 0,\n",
       "  'in_dreamteam': False},\n",
       " 'explain': [{'fixture': 71,\n",
       "   'stats': [{'identifier': 'minutes', 'points': 0, 'value': 0}]}]}"
      ]
     },
     "execution_count": 37,
     "metadata": {},
     "output_type": "execute_result"
    }
   ],
   "source": [
    "get_data('gameweek',params={'gameweek':8})['elements'][9]"
   ]
  },
  {
   "cell_type": "code",
   "execution_count": 35,
   "metadata": {},
   "outputs": [
    {
     "name": "stdout",
     "output_type": "stream",
     "text": [
      "Querying the API URL: https://fantasy.premierleague.com/api/bootstrap-static/\n"
     ]
    },
    {
     "data": {
      "text/plain": [
       "[{'id': 1,\n",
       "  'plural_name': 'Goalkeepers',\n",
       "  'plural_name_short': 'GKP',\n",
       "  'singular_name': 'Goalkeeper',\n",
       "  'singular_name_short': 'GKP',\n",
       "  'squad_select': 2,\n",
       "  'squad_min_play': 1,\n",
       "  'squad_max_play': 1,\n",
       "  'ui_shirt_specific': True,\n",
       "  'sub_positions_locked': [12],\n",
       "  'element_count': 88},\n",
       " {'id': 2,\n",
       "  'plural_name': 'Defenders',\n",
       "  'plural_name_short': 'DEF',\n",
       "  'singular_name': 'Defender',\n",
       "  'singular_name_short': 'DEF',\n",
       "  'squad_select': 5,\n",
       "  'squad_min_play': 3,\n",
       "  'squad_max_play': 5,\n",
       "  'ui_shirt_specific': False,\n",
       "  'sub_positions_locked': [],\n",
       "  'element_count': 248},\n",
       " {'id': 3,\n",
       "  'plural_name': 'Midfielders',\n",
       "  'plural_name_short': 'MID',\n",
       "  'singular_name': 'Midfielder',\n",
       "  'singular_name_short': 'MID',\n",
       "  'squad_select': 5,\n",
       "  'squad_min_play': 2,\n",
       "  'squad_max_play': 5,\n",
       "  'ui_shirt_specific': False,\n",
       "  'sub_positions_locked': [],\n",
       "  'element_count': 331},\n",
       " {'id': 4,\n",
       "  'plural_name': 'Forwards',\n",
       "  'plural_name_short': 'FWD',\n",
       "  'singular_name': 'Forward',\n",
       "  'singular_name_short': 'FWD',\n",
       "  'squad_select': 3,\n",
       "  'squad_min_play': 1,\n",
       "  'squad_max_play': 3,\n",
       "  'ui_shirt_specific': False,\n",
       "  'sub_positions_locked': [],\n",
       "  'element_count': 98}]"
      ]
     },
     "execution_count": 35,
     "metadata": {},
     "output_type": "execute_result"
    }
   ],
   "source": [
    "get_data('main')['element_types']"
   ]
  },
  {
   "cell_type": "code",
   "execution_count": 7,
   "metadata": {},
   "outputs": [],
   "source": [
    "df1 = element_process(data,'element_price1')"
   ]
  },
  {
   "cell_type": "code",
   "execution_count": 8,
   "metadata": {},
   "outputs": [
    {
     "data": {
      "text/plain": [
       "763"
      ]
     },
     "execution_count": 8,
     "metadata": {},
     "output_type": "execute_result"
    }
   ],
   "source": [
    "df1.to_sql('element_price1',con=connection,index=False)"
   ]
  },
  {
   "cell_type": "code",
   "execution_count": 35,
   "metadata": {},
   "outputs": [],
   "source": [
    "# elements = sql('select element_id from element_price1',connection.cursor())['element_id'].to_list()\n",
    "# endpoint = 'player_summary'\n",
    "# for i in range(50,101):\n",
    "#     data = get_data(endpoint, params={'element_id': i})\n",
    "#     with open(f'{endpoint}_{i}.json', 'w') as f:\n",
    "#         json.dump(data, f)\n",
    "#     print(i)\n"
   ]
  },
  {
   "cell_type": "code",
   "execution_count": 2,
   "metadata": {},
   "outputs": [
    {
     "name": "stdout",
     "output_type": "stream",
     "text": [
      "{ 'element_stats': [...],\n",
      "  'element_types': [...],\n",
      "  'elements': [...],\n",
      "  'events': [...],\n",
      "  'game_settings': {...},\n",
      "  'phases': [...],\n",
      "  'teams': [...],\n",
      "  'total_players': 8455212}\n"
     ]
    }
   ],
   "source": [
    "import requests\n",
    "import json\n",
    "from pprint import pprint\n",
    "base_url = 'https://fantasy.premierleague.com/api/'\n",
    "r = requests.get(base_url+'bootstrap-static/').json()\n",
    "pprint(r, indent=2, depth=1, compact=False)\n"
   ]
  },
  {
   "cell_type": "code",
   "execution_count": null,
   "metadata": {},
   "outputs": [],
   "source": []
  }
 ],
 "metadata": {
  "kernelspec": {
   "display_name": "Python 3.10.4 64-bit",
   "language": "python",
   "name": "python3"
  },
  "language_info": {
   "codemirror_mode": {
    "name": "ipython",
    "version": 3
   },
   "file_extension": ".py",
   "mimetype": "text/x-python",
   "name": "python",
   "nbconvert_exporter": "python",
   "pygments_lexer": "ipython3",
   "version": "3.10.4"
  },
  "orig_nbformat": 4,
  "vscode": {
   "interpreter": {
    "hash": "aee8b7b246df8f9039afb4144a1f6fd8d2ca17a180786b69acc140d282b71a49"
   }
  }
 },
 "nbformat": 4,
 "nbformat_minor": 2
}
