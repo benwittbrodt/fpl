{
 "cells": [
  {
   "cell_type": "code",
   "execution_count": 14,
   "metadata": {},
   "outputs": [
    {
     "name": "stdout",
     "output_type": "stream",
     "text": [
      "The autoreload extension is already loaded. To reload it, use:\n",
      "  %reload_ext autoreload\n"
     ]
    }
   ],
   "source": [
    "#built in pip packages\n",
    "import requests \n",
    "import pandas as pd \n",
    "import sqlite3\n",
    "import json\n",
    "from pprint import pprint\n",
    "\n",
    "#custom packages/functions\n",
    "from func import get_data\n",
    "from db_build import * \n",
    "\n",
    "%load_ext autoreload\n",
    "%autoreload 2\n",
    "\n",
    "connection = sqlite3.connect(\"db/fpl.db\")\n"
   ]
  },
  {
   "cell_type": "code",
   "execution_count": 36,
   "metadata": {},
   "outputs": [],
   "source": [
    "# endpoint = 'gameweek'\n",
    "# for i in range(1,39):\n",
    "#     data = get_data(endpoint, params={'gameweek':i})\n",
    "#     with open(f'{endpoint}{i}.json','w') as f:\n",
    "#         json.dump(data,f)\n",
    "#     print(i)"
   ]
  },
  {
   "cell_type": "code",
   "execution_count": 3,
   "metadata": {},
   "outputs": [],
   "source": [
    "df = pd.DataFrame(data['events'])"
   ]
  },
  {
   "cell_type": "code",
   "execution_count": 7,
   "metadata": {},
   "outputs": [],
   "source": [
    "df1 = element_process(data,'element_price1')"
   ]
  },
  {
   "cell_type": "code",
   "execution_count": 8,
   "metadata": {},
   "outputs": [
    {
     "data": {
      "text/plain": [
       "763"
      ]
     },
     "execution_count": 8,
     "metadata": {},
     "output_type": "execute_result"
    }
   ],
   "source": [
    "df1.to_sql('element_price1',con=connection,index=False)"
   ]
  },
  {
   "cell_type": "code",
   "execution_count": 35,
   "metadata": {},
   "outputs": [],
   "source": [
    "# elements = sql('select element_id from element_price1',connection.cursor())['element_id'].to_list()\n",
    "# endpoint = 'player_summary'\n",
    "# for i in range(50,101):\n",
    "#     data = get_data(endpoint, params={'element_id': i})\n",
    "#     with open(f'{endpoint}_{i}.json', 'w') as f:\n",
    "#         json.dump(data, f)\n",
    "#     print(i)\n"
   ]
  },
  {
   "cell_type": "code",
   "execution_count": 2,
   "metadata": {},
   "outputs": [
    {
     "name": "stdout",
     "output_type": "stream",
     "text": [
      "{ 'element_stats': [...],\n",
      "  'element_types': [...],\n",
      "  'elements': [...],\n",
      "  'events': [...],\n",
      "  'game_settings': {...},\n",
      "  'phases': [...],\n",
      "  'teams': [...],\n",
      "  'total_players': 8455212}\n"
     ]
    }
   ],
   "source": [
    "import requests\n",
    "import json\n",
    "from pprint import pprint\n",
    "base_url = 'https://fantasy.premierleague.com/api/'\n",
    "r = requests.get(base_url+'bootstrap-static/').json()\n",
    "pprint(r, indent=2, depth=1, compact=False)\n"
   ]
  },
  {
   "cell_type": "code",
   "execution_count": null,
   "metadata": {},
   "outputs": [],
   "source": []
  }
 ],
 "metadata": {
  "kernelspec": {
   "display_name": "Python 3.10.4 64-bit",
   "language": "python",
   "name": "python3"
  },
  "language_info": {
   "codemirror_mode": {
    "name": "ipython",
    "version": 3
   },
   "file_extension": ".py",
   "mimetype": "text/x-python",
   "name": "python",
   "nbconvert_exporter": "python",
   "pygments_lexer": "ipython3",
   "version": "3.10.4"
  },
  "orig_nbformat": 4,
  "vscode": {
   "interpreter": {
    "hash": "aee8b7b246df8f9039afb4144a1f6fd8d2ca17a180786b69acc140d282b71a49"
   }
  }
 },
 "nbformat": 4,
 "nbformat_minor": 2
}
