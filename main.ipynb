{
 "cells": [
  {
   "cell_type": "code",
   "execution_count": 14,
   "metadata": {},
   "outputs": [
    {
     "name": "stdout",
     "output_type": "stream",
     "text": [
      "The autoreload extension is already loaded. To reload it, use:\n",
      "  %reload_ext autoreload\n"
     ]
    }
   ],
   "source": [
    "#built in pip packages\n",
    "import requests\n",
    "import pandas as pd \n",
    "import sqlite3\n",
    "import json\n",
    "\n",
    "#custom packages/functions\n",
    "from func import get_data\n",
    "from db_build import * \n",
    "\n",
    "%load_ext autoreload\n",
    "%autoreload 2\n",
    "\n",
    "connection = sqlite3.connect(\"db/fpl.db\")\n"
   ]
  },
  {
   "cell_type": "code",
   "execution_count": 36,
   "metadata": {},
   "outputs": [],
   "source": [
    "# endpoint = 'gameweek'\n",
    "# for i in range(1,39):\n",
    "#     data = get_data(endpoint, params={'gameweek':i})\n",
    "#     with open(f'{endpoint}{i}.json','w') as f:\n",
    "#         json.dump(data,f)\n",
    "#     print(i)"
   ]
  },
  {
   "cell_type": "code",
   "execution_count": 3,
   "metadata": {},
   "outputs": [],
   "source": [
    "df = pd.DataFrame(data['events'])"
   ]
  },
  {
   "cell_type": "code",
   "execution_count": 11,
   "metadata": {},
   "outputs": [
    {
     "data": {
      "text/html": [
       "<div>\n",
       "<style scoped>\n",
       "    .dataframe tbody tr th:only-of-type {\n",
       "        vertical-align: middle;\n",
       "    }\n",
       "\n",
       "    .dataframe tbody tr th {\n",
       "        vertical-align: top;\n",
       "    }\n",
       "\n",
       "    .dataframe thead th {\n",
       "        text-align: right;\n",
       "    }\n",
       "</style>\n",
       "<table border=\"1\" class=\"dataframe\">\n",
       "  <thead>\n",
       "    <tr style=\"text-align: right;\">\n",
       "      <th></th>\n",
       "      <th>id</th>\n",
       "      <th>name</th>\n",
       "      <th>deadline_time</th>\n",
       "      <th>average_entry_score</th>\n",
       "      <th>finished</th>\n",
       "      <th>data_checked</th>\n",
       "      <th>highest_scoring_entry</th>\n",
       "      <th>deadline_time_game_offset</th>\n",
       "      <th>highest_score</th>\n",
       "      <th>is_previous</th>\n",
       "      <th>...</th>\n",
       "      <th>is_next</th>\n",
       "      <th>cup_leagues_created</th>\n",
       "      <th>h2h_ko_matches_created</th>\n",
       "      <th>most_selected</th>\n",
       "      <th>most_transferred_in</th>\n",
       "      <th>top_element</th>\n",
       "      <th>transfers_made</th>\n",
       "      <th>most_captained</th>\n",
       "      <th>most_vice_captained</th>\n",
       "      <th>season_name</th>\n",
       "    </tr>\n",
       "  </thead>\n",
       "  <tbody>\n",
       "    <tr>\n",
       "      <th>33</th>\n",
       "      <td>222334</td>\n",
       "      <td>Gameweek 34</td>\n",
       "      <td>2023-04-29 10:00:00</td>\n",
       "      <td>82</td>\n",
       "      <td>True</td>\n",
       "      <td>True</td>\n",
       "      <td>4772566</td>\n",
       "      <td>0</td>\n",
       "      <td>175</td>\n",
       "      <td>True</td>\n",
       "      <td>...</td>\n",
       "      <td>False</td>\n",
       "      <td>True</td>\n",
       "      <td>True</td>\n",
       "      <td>318</td>\n",
       "      <td>335</td>\n",
       "      <td>283</td>\n",
       "      <td>10569759</td>\n",
       "      <td>318</td>\n",
       "      <td>283</td>\n",
       "      <td>22_23</td>\n",
       "    </tr>\n",
       "    <tr>\n",
       "      <th>34</th>\n",
       "      <td>222335</td>\n",
       "      <td>Gameweek 35</td>\n",
       "      <td>2023-05-06 12:30:00</td>\n",
       "      <td>39</td>\n",
       "      <td>True</td>\n",
       "      <td>True</td>\n",
       "      <td>1351287</td>\n",
       "      <td>0</td>\n",
       "      <td>107</td>\n",
       "      <td>False</td>\n",
       "      <td>...</td>\n",
       "      <td>False</td>\n",
       "      <td>True</td>\n",
       "      <td>True</td>\n",
       "      <td>318</td>\n",
       "      <td>356</td>\n",
       "      <td>534</td>\n",
       "      <td>6017147</td>\n",
       "      <td>318</td>\n",
       "      <td>283</td>\n",
       "      <td>22_23</td>\n",
       "    </tr>\n",
       "    <tr>\n",
       "      <th>35</th>\n",
       "      <td>222336</td>\n",
       "      <td>Gameweek 36</td>\n",
       "      <td>2023-05-13 10:00:00</td>\n",
       "      <td>0</td>\n",
       "      <td>False</td>\n",
       "      <td>False</td>\n",
       "      <td>0</td>\n",
       "      <td>0</td>\n",
       "      <td>0</td>\n",
       "      <td>False</td>\n",
       "      <td>...</td>\n",
       "      <td>True</td>\n",
       "      <td>True</td>\n",
       "      <td>True</td>\n",
       "      <td>0</td>\n",
       "      <td>0</td>\n",
       "      <td>0</td>\n",
       "      <td>0</td>\n",
       "      <td>0</td>\n",
       "      <td>0</td>\n",
       "      <td>22_23</td>\n",
       "    </tr>\n",
       "    <tr>\n",
       "      <th>36</th>\n",
       "      <td>222337</td>\n",
       "      <td>Gameweek 37</td>\n",
       "      <td>2023-05-20 10:00:00</td>\n",
       "      <td>0</td>\n",
       "      <td>False</td>\n",
       "      <td>False</td>\n",
       "      <td>0</td>\n",
       "      <td>0</td>\n",
       "      <td>0</td>\n",
       "      <td>False</td>\n",
       "      <td>...</td>\n",
       "      <td>False</td>\n",
       "      <td>False</td>\n",
       "      <td>False</td>\n",
       "      <td>0</td>\n",
       "      <td>0</td>\n",
       "      <td>0</td>\n",
       "      <td>0</td>\n",
       "      <td>0</td>\n",
       "      <td>0</td>\n",
       "      <td>22_23</td>\n",
       "    </tr>\n",
       "    <tr>\n",
       "      <th>37</th>\n",
       "      <td>222338</td>\n",
       "      <td>Gameweek 38</td>\n",
       "      <td>2023-05-28 14:00:00</td>\n",
       "      <td>0</td>\n",
       "      <td>False</td>\n",
       "      <td>False</td>\n",
       "      <td>0</td>\n",
       "      <td>0</td>\n",
       "      <td>0</td>\n",
       "      <td>False</td>\n",
       "      <td>...</td>\n",
       "      <td>False</td>\n",
       "      <td>False</td>\n",
       "      <td>False</td>\n",
       "      <td>0</td>\n",
       "      <td>0</td>\n",
       "      <td>0</td>\n",
       "      <td>0</td>\n",
       "      <td>0</td>\n",
       "      <td>0</td>\n",
       "      <td>22_23</td>\n",
       "    </tr>\n",
       "  </tbody>\n",
       "</table>\n",
       "<p>5 rows × 21 columns</p>\n",
       "</div>"
      ],
      "text/plain": [
       "        id         name       deadline_time  average_entry_score  finished  \\\n",
       "33  222334  Gameweek 34 2023-04-29 10:00:00                   82      True   \n",
       "34  222335  Gameweek 35 2023-05-06 12:30:00                   39      True   \n",
       "35  222336  Gameweek 36 2023-05-13 10:00:00                    0     False   \n",
       "36  222337  Gameweek 37 2023-05-20 10:00:00                    0     False   \n",
       "37  222338  Gameweek 38 2023-05-28 14:00:00                    0     False   \n",
       "\n",
       "    data_checked  highest_scoring_entry  deadline_time_game_offset  \\\n",
       "33          True                4772566                          0   \n",
       "34          True                1351287                          0   \n",
       "35         False                      0                          0   \n",
       "36         False                      0                          0   \n",
       "37         False                      0                          0   \n",
       "\n",
       "    highest_score  is_previous  ...  is_next  cup_leagues_created  \\\n",
       "33            175         True  ...    False                 True   \n",
       "34            107        False  ...    False                 True   \n",
       "35              0        False  ...     True                 True   \n",
       "36              0        False  ...    False                False   \n",
       "37              0        False  ...    False                False   \n",
       "\n",
       "    h2h_ko_matches_created  most_selected  most_transferred_in  top_element  \\\n",
       "33                    True            318                  335          283   \n",
       "34                    True            318                  356          534   \n",
       "35                    True              0                    0            0   \n",
       "36                   False              0                    0            0   \n",
       "37                   False              0                    0            0   \n",
       "\n",
       "    transfers_made  most_captained  most_vice_captained  season_name  \n",
       "33        10569759             318                  283        22_23  \n",
       "34         6017147             318                  283        22_23  \n",
       "35               0               0                    0        22_23  \n",
       "36               0               0                    0        22_23  \n",
       "37               0               0                    0        22_23  \n",
       "\n",
       "[5 rows x 21 columns]"
      ]
     },
     "execution_count": 11,
     "metadata": {},
     "output_type": "execute_result"
    }
   ],
   "source": [
    "events(data).tail()"
   ]
  },
  {
   "cell_type": "code",
   "execution_count": 7,
   "metadata": {},
   "outputs": [],
   "source": [
    "df1 = element_process(data,'element_price1')"
   ]
  },
  {
   "cell_type": "code",
   "execution_count": 8,
   "metadata": {},
   "outputs": [
    {
     "data": {
      "text/plain": [
       "763"
      ]
     },
     "execution_count": 8,
     "metadata": {},
     "output_type": "execute_result"
    }
   ],
   "source": [
    "df1.to_sql('element_price1',con=connection,index=False)"
   ]
  },
  {
   "cell_type": "code",
   "execution_count": 35,
   "metadata": {},
   "outputs": [],
   "source": [
    "# elements = sql('select element_id from element_price1',connection.cursor())['element_id'].to_list()\n",
    "# endpoint = 'player_summary'\n",
    "# for i in range(50,101):\n",
    "#     data = get_data(endpoint, params={'element_id': i})\n",
    "#     with open(f'{endpoint}_{i}.json', 'w') as f:\n",
    "#         json.dump(data, f)\n",
    "#     print(i)\n"
   ]
  },
  {
   "cell_type": "code",
   "execution_count": null,
   "metadata": {},
   "outputs": [],
   "source": []
  }
 ],
 "metadata": {
  "kernelspec": {
   "display_name": "Python 3.10.4 64-bit",
   "language": "python",
   "name": "python3"
  },
  "language_info": {
   "codemirror_mode": {
    "name": "ipython",
    "version": 3
   },
   "file_extension": ".py",
   "mimetype": "text/x-python",
   "name": "python",
   "nbconvert_exporter": "python",
   "pygments_lexer": "ipython3",
   "version": "3.10.4"
  },
  "orig_nbformat": 4,
  "vscode": {
   "interpreter": {
    "hash": "aee8b7b246df8f9039afb4144a1f6fd8d2ca17a180786b69acc140d282b71a49"
   }
  }
 },
 "nbformat": 4,
 "nbformat_minor": 2
}
